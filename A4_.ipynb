{
  "nbformat": 4,
  "nbformat_minor": 0,
  "metadata": {
    "colab": {
      "name": "Mini_project4.ipynb",
      "provenance": [],
      "collapsed_sections": []
    },
    "kernelspec": {
      "name": "python3",
      "display_name": "Python 3"
    },
    "language_info": {
      "name": "python"
    }
  },
  "cells": [
    {
      "cell_type": "code",
      "metadata": {
        "id": "e045EAaByCu2"
      },
      "source": [
        "import numpy as np\n",
        "import matplotlib.pyplot as plt\n",
        "import scipy as sp\n",
        "from scipy.special import multigammaln\n",
        "from scipy.stats import invwishart, invgamma"
      ],
      "execution_count": null,
      "outputs": []
    },
    {
      "cell_type": "code",
      "metadata": {
        "id": "AEy1dBFr0a3Q"
      },
      "source": [
        "cov_matrix = np.array([[1, 0], [0, 2]])"
      ],
      "execution_count": null,
      "outputs": []
    },
    {
      "cell_type": "markdown",
      "metadata": {
        "id": "8J6gsCyCGWJD"
      },
      "source": [
        "### 1) Estimating Covariance using the Maximum Likelihood approach\n",
        " "
      ]
    },
    {
      "cell_type": "code",
      "metadata": {
        "colab": {
          "base_uri": "https://localhost:8080/"
        },
        "id": "IWUdSYIiOjm8",
        "outputId": "3090fb2a-c1b9-47d7-ca31-a80f979a9a0a"
      },
      "source": [
        "for n in [10,100,1000]:\n",
        "  np.random.seed(1234)\n",
        "  y = np.random.multivariate_normal(np.zeros(2), cov_matrix, n)\n",
        "  cov_estimate = np.matmul(np.transpose(y),y)/n\n",
        "  print(\"\\nEstimated covariance matrix for n =\",n)\n",
        "  print(cov_estimate)\n",
        "  print(f\"MSE for n = {n} is \",np.mean(np.square(cov_estimate-cov_matrix)))"
      ],
      "execution_count": null,
      "outputs": [
        {
          "output_type": "stream",
          "text": [
            "\n",
            "Estimated covariance matrix for n = 10\n",
            "[[ 1.52839538 -0.69924025]\n",
            " [-0.69924025  1.55723106]]\n",
            "MSE for n = 10 is  0.3632799625398799\n",
            "\n",
            "Estimated covariance matrix for n = 100\n",
            "[[ 1.15268269 -0.25000989]\n",
            " [-0.25000989  1.60006159]]\n",
            "MSE for n = 100 is  0.07706815796164049\n",
            "\n",
            "Estimated covariance matrix for n = 1000\n",
            "[[ 0.99585968 -0.03801164]\n",
            " [-0.03801164  1.870427  ]]\n",
            "MSE for n = 1000 is  0.004924018986004798\n"
          ],
          "name": "stdout"
        }
      ]
    },
    {
      "cell_type": "markdown",
      "metadata": {
        "id": "IQniDwNuG1qv"
      },
      "source": [
        "### 2) Bayesian estimation with  Inverse Wishart distribution as prior"
      ]
    },
    {
      "cell_type": "code",
      "metadata": {
        "colab": {
          "base_uri": "https://localhost:8080/"
        },
        "id": "Xf_YCRFFglgr",
        "outputId": "84dbaa93-4b90-45ce-81b2-958b64d9917d"
      },
      "source": [
        "v_0 = 5\n",
        "d = 2\n",
        "delta_0 = np.array([[4, 0], [0, 5]])\n",
        "\n",
        "for n in [10,100,1000]:\n",
        "  np.random.seed(1234)\n",
        "  y = np.random.multivariate_normal(np.zeros(2), cov_matrix, n)\n",
        "  delta_n = delta_0+np.matmul(np.transpose(y),y)\n",
        "  v_n = v_0+n\n",
        "  cov_estimate = delta_n/(v_n+d+1)\n",
        "  print(\"\\nEstimated covariance matrix for n =\",n) \n",
        "  print(cov_estimate)\n",
        "  print(f\"MSE for n = {n} is \",np.mean(np.square(cov_estimate-cov_matrix)))"
      ],
      "execution_count": null,
      "outputs": [
        {
          "output_type": "stream",
          "text": [
            "\n",
            "Estimated covariance matrix for n = 10\n",
            "[[ 1.07133076 -0.3884668 ]\n",
            " [-0.3884668   1.14290614]]\n",
            "MSE for n = 10 is  0.26037771752735406\n",
            "\n",
            "Estimated covariance matrix for n = 100\n",
            "[[ 1.10433583 -0.23149064]\n",
            " [-0.23149064  1.5278348 ]]\n",
            "MSE for n = 100 is  0.08525044303918006\n",
            "\n",
            "Estimated covariance matrix for n = 1000\n",
            "[[ 0.99192429 -0.03770997]\n",
            " [-0.03770997  1.86054265]]\n",
            "MSE for n = 1000 is  0.005589412821708227\n"
          ],
          "name": "stdout"
        }
      ]
    },
    {
      "cell_type": "markdown",
      "metadata": {
        "id": "VvpF4LovHBWd"
      },
      "source": [
        "### 3) Use of non informative prior"
      ]
    },
    {
      "cell_type": "code",
      "metadata": {
        "id": "yKEGTS5BtvSd",
        "colab": {
          "base_uri": "https://localhost:8080/"
        },
        "outputId": "a50928a0-21da-48a2-fc9b-83a1b4641c2e"
      },
      "source": [
        "for n in [10,100,1000]:\n",
        "  np.random.seed(1234)\n",
        "  y = np.random.multivariate_normal(np.zeros(2), cov_matrix, n)\n",
        "  S = np.matmul(np.transpose(y),y)\n",
        "  cov_estimate = S/(n+4)\n",
        "  print(f\"\\nEstimated covariance matrix for n = {n} for non-informative Jeffrey’s prior\") \n",
        "  print(cov_estimate)\n",
        "  print(f\"MSE for n = {n} is \",np.mean(np.square(cov_estimate-cov_matrix))) "
      ],
      "execution_count": null,
      "outputs": [
        {
          "output_type": "stream",
          "text": [
            "\n",
            "Estimated covariance matrix for n = 10 for non-informative Jeffrey’s prior\n",
            "[[ 1.09171098 -0.49945732]\n",
            " [-0.49945732  1.1123079 ]]\n",
            "MSE for n = 10 is  0.3238308488109908\n",
            "\n",
            "Estimated covariance matrix for n = 100 for non-informative Jeffrey’s prior\n",
            "[[ 1.10834874 -0.24039413]\n",
            " [-0.24039413  1.53852076]]\n",
            "MSE for n = 100 is  0.08507030378630773\n",
            "\n",
            "Estimated covariance matrix for n = 1000 for non-informative Jeffrey’s prior\n",
            "[[ 0.99189211 -0.0378602 ]\n",
            " [-0.0378602   1.8629751 ]]\n",
            "MSE for n = 1000 is  0.005427088104887309\n"
          ],
          "name": "stdout"
        }
      ]
    },
    {
      "cell_type": "code",
      "metadata": {
        "colab": {
          "base_uri": "https://localhost:8080/"
        },
        "id": "OsSyyw4k3xet",
        "outputId": "57b10dc0-3152-493c-aa77-5352b1025a53"
      },
      "source": [
        "for n in [10,100,1000]:\n",
        "  np.random.seed(1234)\n",
        "  y = np.random.multivariate_normal(np.zeros(2), cov_matrix, n)\n",
        "  S = np.matmul(np.transpose(y),y)\n",
        "  cov_estimate = S/(n+3)\n",
        "  print(f\"\\nEstimated covariance matrix for n = {n} for independence-Jeffrey’s prior\") \n",
        "  print(cov_estimate)\n",
        "  print(f\"MSE for n = {n} is \",np.mean(np.square(cov_estimate-cov_matrix)))  "
      ],
      "execution_count": null,
      "outputs": [
        {
          "output_type": "stream",
          "text": [
            "\n",
            "Estimated covariance matrix for n = 10 for independence-Jeffrey’s prior\n",
            "[[ 1.17568875 -0.53787711]\n",
            " [-0.53787711  1.19787005]]\n",
            "MSE for n = 10 is  0.31322564401605113\n",
            "\n",
            "Estimated covariance matrix for n = 100 for independence-Jeffrey’s prior\n",
            "[[ 1.11910941 -0.24272805]\n",
            " [-0.24272805  1.55345785]]\n",
            "MSE for n = 100 is  0.08285518891682812\n",
            "\n",
            "Estimated covariance matrix for n = 1000 for independence-Jeffrey’s prior\n",
            "[[ 0.99288104 -0.03789795]\n",
            " [-0.03789795  1.8648325 ]]\n",
            "MSE for n = 1000 is  0.005298360629828628\n"
          ],
          "name": "stdout"
        }
      ]
    },
    {
      "cell_type": "markdown",
      "metadata": {
        "id": "2d764UyPHJPf"
      },
      "source": [
        "### 4) Monte carlo bayesian estimation"
      ]
    },
    {
      "cell_type": "code",
      "metadata": {
        "colab": {
          "base_uri": "https://localhost:8080/"
        },
        "id": "SODEd07S-Do9",
        "outputId": "021e14e9-7709-4a6c-e529-72766611b5c5"
      },
      "source": [
        "delta_0 = np.array([[4,0],[0,5]])\n",
        "v_0 = 5\n",
        "\n",
        "def exp_term(y, sigma):    \n",
        "    return -0.5 * (y@np.linalg.inv(sigma)*y).sum()\n",
        "\n",
        "for n in [10,100,1000]:\n",
        "    np.random.seed(1234)\n",
        "    y = np.random.multivariate_normal(np.zeros(2), cov_matrix, n)\n",
        "    for m in [1000,10000,100000]:\n",
        "        sigmas = invwishart.rvs(df=v_0,  scale=delta_0, size=m, random_state=1234)\n",
        "        dets_list = list(map(np.linalg.det,sigmas))\n",
        "        dets_array = np.array(dets_list)\n",
        "        abs_dets = np.abs(dets_array)\n",
        "\n",
        "        exps = np.array([exp_term(y, sigma) for sigma in sigmas])\n",
        "        exp_pow_and_det = exps - 0.5 * n * np.log(abs_dets)\n",
        "        exp_pow_and_det = exp_pow_and_det - np.max(exp_pow_and_det)\n",
        "        denominator_terms = np.exp(exp_pow_and_det)  \n",
        "        numerator_terms = np.multiply(sigmas, denominator_terms[:, None, None])  \n",
        "        numerator = np.mean(numerator_terms, axis=0)\n",
        "        denominator = np.mean(denominator_terms, axis=0)\n",
        "        mc_estimate = numerator/denominator\n",
        "        print(f'\\nMonte carlo estimate or A for n={n} and m={m} is :\\n{mc_estimate}')\n",
        "        print(f\"MSE for this configuration is \",np.mean(np.square(mc_estimate-cov_matrix))) \n"
      ],
      "execution_count": null,
      "outputs": [
        {
          "output_type": "stream",
          "text": [
            "\n",
            "Monte carlo estimate or A for n=10 and m=1000 is :\n",
            "[[ 1.6186982  -0.53358614]\n",
            " [-0.53358614  1.64849999]]\n",
            "MSE for this configuration is  0.2689420105654011\n",
            "\n",
            "Monte carlo estimate or A for n=10 and m=10000 is :\n",
            "[[ 1.59704462 -0.5718405 ]\n",
            " [-0.5718405   1.71323759]]\n",
            "MSE for this configuration is  0.2731745182578328\n",
            "\n",
            "Monte carlo estimate or A for n=10 and m=100000 is :\n",
            "[[ 1.61210533 -0.58417297]\n",
            " [-0.58417297  1.71036704]]\n",
            "MSE for this configuration is  0.285269072796079\n",
            "\n",
            "Monte carlo estimate or A for n=100 and m=1000 is :\n",
            "[[ 1.17361888 -0.2370108 ]\n",
            " [-0.2370108   1.59272821]]\n",
            "MSE for this configuration is  0.07709051401727435\n",
            "\n",
            "Monte carlo estimate or A for n=100 and m=10000 is :\n",
            "[[ 1.17121685 -0.25234526]\n",
            " [-0.25234526  1.62188775]]\n",
            "MSE for this configuration is  0.07491008809268067\n",
            "\n",
            "Monte carlo estimate or A for n=100 and m=100000 is :\n",
            "[[ 1.1655761  -0.24044226]\n",
            " [-0.24044226  1.61440333]]\n",
            "MSE for this configuration is  0.07293129904473297\n",
            "\n",
            "Monte carlo estimate or A for n=1000 and m=1000 is :\n",
            "[[ 1.09324345 -0.03464174]\n",
            " [-0.03464174  1.77878295]]\n",
            "MSE for this configuration is  0.015007856219786425\n",
            "\n",
            "Monte carlo estimate or A for n=1000 and m=10000 is :\n",
            "[[ 0.99427012 -0.02098183]\n",
            " [-0.02098183  1.87941836]]\n",
            "MSE for this configuration is  0.003863309598409098\n",
            "\n",
            "Monte carlo estimate or A for n=1000 and m=100000 is :\n",
            "[[ 0.99508015 -0.03377158]\n",
            " [-0.03377158  1.87005642]]\n",
            "MSE for this configuration is  0.004797644611827497\n"
          ],
          "name": "stdout"
        }
      ]
    },
    {
      "cell_type": "code",
      "metadata": {
        "colab": {
          "base_uri": "https://localhost:8080/"
        },
        "id": "89JB6FoVm_o3",
        "outputId": "2f9ccbcc-f9ec-4921-d49f-16221a272d36"
      },
      "source": [
        "delta_0 = np.array([[2,0],[0,4]])\n",
        "v_0 = 5\n",
        "\n",
        "def exp_term(y, sigma):    \n",
        "    return -0.5 * (y@np.linalg.inv(sigma)*y).sum()\n",
        "\n",
        "for n in [10,100,1000]:\n",
        "    np.random.seed(1234)\n",
        "    y = np.random.multivariate_normal(np.zeros(2), cov_matrix, n)\n",
        "    for m in [1000,10000,100000]:\n",
        "        sigmas = invwishart.rvs(df=v_0,  scale=delta_0, size=m,random_state=1234)\n",
        "        dets_list = list(map(np.linalg.det,sigmas))\n",
        "        dets_array = np.array(dets_list)\n",
        "        abs_dets = np.abs(dets_array)\n",
        "\n",
        "        exps = np.array([exp_term(y, sigma) for sigma in sigmas])\n",
        "        exp_pow_and_det = exps - 0.5 * n * np.log(abs_dets)\n",
        "        exp_pow_and_det = exp_pow_and_det - np.max(exp_pow_and_det)\n",
        "        denominator_terms = np.exp(exp_pow_and_det)  \n",
        "        numerator_terms = np.multiply(sigmas, denominator_terms[:, None, None])  \n",
        "        numerator = np.mean(numerator_terms, axis=0)\n",
        "        denominator = np.mean(denominator_terms, axis=0)\n",
        "        mc_estimate = numerator/denominator\n",
        "        print(f'\\nMonte carlo estimate or A for n={n} and m={m} is :\\n{mc_estimate}')\n",
        "        print(f\"MSE for this configuration is \",np.mean(np.square(mc_estimate-cov_matrix))) \n"
      ],
      "execution_count": null,
      "outputs": [
        {
          "output_type": "stream",
          "text": [
            "\n",
            "Monte carlo estimate or A for n=10 and m=1000 is :\n",
            "[[ 1.45413455 -0.56460302]\n",
            " [-0.56460302  1.57251004]]\n",
            "MSE for this configuration is  0.2566347495690538\n",
            "\n",
            "Monte carlo estimate or A for n=10 and m=10000 is :\n",
            "[[ 1.40917452 -0.55448462]\n",
            " [-0.55448462  1.5943145 ]]\n",
            "MSE for this configuration is  0.23672772315786264\n",
            "\n",
            "Monte carlo estimate or A for n=10 and m=100000 is :\n",
            "[[ 1.44529152 -0.58773328]\n",
            " [-0.58773328  1.62384184]]\n",
            "MSE for this configuration is  0.257660081186997\n",
            "\n",
            "Monte carlo estimate or A for n=100 and m=1000 is :\n",
            "[[ 1.13733212 -0.26076304]\n",
            " [-0.26076304  1.68117801]]\n",
            "MSE for this configuration is  0.06412557574486913\n",
            "\n",
            "Monte carlo estimate or A for n=100 and m=10000 is :\n",
            "[[ 1.16431362 -0.26363005]\n",
            " [-0.26363005  1.58698195]]\n",
            "MSE for this configuration is  0.08414612162736437\n",
            "\n",
            "Monte carlo estimate or A for n=100 and m=100000 is :\n",
            "[[ 1.14221605 -0.2436836 ]\n",
            " [-0.2436836   1.61050506]]\n",
            "MSE for this configuration is  0.07267377558053453\n",
            "\n",
            "Monte carlo estimate or A for n=1000 and m=1000 is :\n",
            "[[0.99077344 0.07586985]\n",
            " [0.07586985 1.96161341]]\n",
            "MSE for this configuration is  0.003267782097352475\n",
            "\n",
            "Monte carlo estimate or A for n=1000 and m=10000 is :\n",
            "[[ 1.02670483 -0.04552777]\n",
            " [-0.04552777  1.88343807]]\n",
            "MSE for this configuration is  0.004611347046333541\n",
            "\n",
            "Monte carlo estimate or A for n=1000 and m=100000 is :\n",
            "[[ 0.99332838 -0.04243598]\n",
            " [-0.04243598  1.88047176]]\n",
            "MSE for this configuration is  0.0044832840147049574\n"
          ],
          "name": "stdout"
        }
      ]
    },
    {
      "cell_type": "markdown",
      "metadata": {
        "id": "42OrJdraAuLS"
      },
      "source": [
        "### 5) Hierarchical Bayes estimation and Gibbs sampling"
      ]
    },
    {
      "cell_type": "code",
      "metadata": {
        "id": "fb55KQbB6ECo",
        "colab": {
          "base_uri": "https://localhost:8080/"
        },
        "outputId": "60286bcf-4b4d-48bc-8ca2-50ed8dd8ac97"
      },
      "source": [
        "d = 2\n",
        "nu = 5\n",
        "A1 = 0.05\n",
        "A2 = 0.05\n",
        "no_iterations = 1000\n",
        "\n",
        "for n in [10,100,1000]:\n",
        "    np.random.seed(1234)\n",
        "    y = np.random.multivariate_normal(np.zeros(2), cov_matrix, n)\n",
        "    sum_of_product_terms = np.matmul(np.transpose(y),y)\n",
        "    a1 = invgamma.rvs(1/2, scale=1/(A1**2))\n",
        "    a2 = invgamma.rvs(1/2, scale=1/(A2**2))\n",
        "    j=0\n",
        "    while(j < no_iterations):\n",
        "        sigma_scale = 2*nu*np.diag([1/a1,1/a2]) + sum_of_product_terms\n",
        "        sigma = invwishart.rvs(df=nu+d+n-1,scale=sigma_scale, size=1)\n",
        "        sigma_inverse = np.linalg.inv(sigma)\n",
        "        a1 = invgamma.rvs((nu + n)/2, scale=nu *sigma_inverse[0, 0] + 1/(A1**2))\n",
        "        a2 = invgamma.rvs((nu + n)/2, scale=nu *sigma_inverse[1, 1] + 1/(A2**2))\n",
        "        j=j+1\n",
        "    final_sigma = 2*nu*np.diag([1/a1, 1/a2]) + sum_of_product_terms\n",
        "    nu_n = nu+d+n-1\n",
        "    cov_estimate = final_sigma/(nu_n+d+1)  \n",
        "    print(f'\\nThe covariance estimate from Gibbs sampling for n={n} is :\\n{cov_estimate}')\n",
        "    print(f\"MSE for n = {n} is \",np.mean(np.square(cov_estimate-cov_matrix)))"
      ],
      "execution_count": null,
      "outputs": [
        {
          "output_type": "stream",
          "text": [
            "\n",
            "The covariance estimate from Gibbs sampling for n=10 is :\n",
            "[[ 0.82155445 -0.36802118]\n",
            " [-0.36802118  0.82609591]]\n",
            "MSE for n = 10 is  0.42019320058345166\n",
            "\n",
            "The covariance estimate from Gibbs sampling for n=100 is :\n",
            "[[ 1.06995358 -0.22936687]\n",
            " [-0.22936687  1.48311169]]\n",
            "MSE for n = 100 is  0.09432133958432733\n",
            "\n",
            "The covariance estimate from Gibbs sampling for n=1000 is :\n",
            "[[ 1.00048121 -0.03767259]\n",
            " [-0.03767259  1.86549152]]\n",
            "MSE for n = 1000 is  0.005232802605366902\n"
          ],
          "name": "stdout"
        }
      ]
    },
    {
      "cell_type": "markdown",
      "metadata": {
        "id": "QkTjE-6EcEU8"
      },
      "source": [
        "### 6) Empirical Bayes"
      ]
    },
    {
      "cell_type": "code",
      "metadata": {
        "id": "NGuzydalcHnX",
        "colab": {
          "base_uri": "https://localhost:8080/"
        },
        "outputId": "22ad1249-245d-461a-b034-e4a0140f1ab7"
      },
      "source": [
        "d = 2\n",
        "threshold = 1e-6 \n",
        "\n",
        "for n in [10,100,1000]:\n",
        "    np.random.seed(1234)\n",
        "    y = np.random.multivariate_normal(np.zeros(2), cov_matrix, n)\n",
        "    sum_of_product_terms = np.matmul(np.transpose(y),y)\n",
        "    error = np.ones(1)\n",
        "    nu = 1 \n",
        "    while np.abs(error) > threshold:\n",
        "        temp = np.array([1/(nu+n-i-j-1 + 1e-7) for i in range(1, n+1) for j in range(1, n+1)])\n",
        "        derivative = np.log((nu+n)/nu) - np.sum(temp)\n",
        "        double_derivative = 1/(nu + n) - 1/nu + np.sum(np.square(temp))\n",
        "        error = derivative/double_derivative\n",
        "        nu = nu - error\n",
        "    nu_opt = nu\n",
        "    delta_opt = (nu_opt*sum_of_product_terms)/n\n",
        "    nu_n = nu_opt+n\n",
        "    delta_n = delta_opt + sum_of_product_terms\n",
        "    cov_estimate = delta_n/(nu_n+d+1)\n",
        "    print(f'\\nThe estimated covariance from Emperical Bayes method for n={n} is:\\n{cov_estimate}')\n",
        "    print(f\"MSE for n = {n} is \",np.mean(np.square(cov_estimate-cov_matrix)))"
      ],
      "execution_count": null,
      "outputs": [
        {
          "output_type": "stream",
          "text": [
            "\n",
            "The estimated covariance from Emperical Bayes method for n=10 is:\n",
            "[[ 1.20088208 -0.54940305]\n",
            " [-0.54940305  1.22353869]]\n",
            "MSE for n = 10 is  0.31173329995130933\n",
            "\n",
            "The estimated covariance from Emperical Bayes method for n=100 is:\n",
            "[[ 1.11943223 -0.24279807]\n",
            " [-0.24279807  1.55390596]]\n",
            "MSE for n = 100 is  0.082791437693855\n",
            "\n",
            "The estimated covariance from Emperical Bayes method for n=1000 is:\n",
            "[[ 0.992884   -0.03789806]\n",
            " [-0.03789806  1.86483807]]\n",
            "MSE for n = 1000 is  0.005297977780410795\n"
          ],
          "name": "stdout"
        }
      ]
    }
  ]
}